{
 "cells": [
  {
   "cell_type": "markdown",
   "metadata": {},
   "source": [
    "# Machine Learning Engineer Nanodegree\n",
    "## Supervised Learning\n",
    "## Project: Finding Donors for *CharityML*"
   ]
  },
  {
   "cell_type": "markdown",
   "metadata": {},
   "source": [
    "Welcome to the second project of the Machine Learning Engineer Nanodegree! In this notebook, some template code has already been provided for you, and it will be your job to implement the additional functionality necessary to successfully complete this project. Sections that begin with **'Implementation'** in the header indicate that the following block of code will require additional functionality which you must provide. Instructions will be provided for each section and the specifics of the implementation are marked in the code block with a `'TODO'` statement. Please be sure to read the instructions carefully!\n",
    "\n",
    "In addition to implementing code, there will be questions that you must answer which relate to the project and your implementation. Each section where you will answer a question is preceded by a **'Question X'** header. Carefully read each question and provide thorough answers in the following text boxes that begin with **'Answer:'**. Your project submission will be evaluated based on your answers to each of the questions and the implementation you provide.  \n",
    "\n",
    ">**Note:** Please specify WHICH VERSION OF PYTHON you are using when submitting this notebook. Code and Markdown cells can be executed using the **Shift + Enter** keyboard shortcut. In addition, Markdown cells can be edited by typically double-clicking the cell to enter edit mode."
   ]
  },
  {
   "cell_type": "markdown",
   "metadata": {},
   "source": [
    "\n",
    "## Getting Started\n",
    "\n",
    "In this project, you will employ several supervised algorithms of your choice to accurately model individuals' income using data collected from the 1994 U.S. Census. You will then choose the best candidate algorithm from preliminary results and further optimize this algorithm to best model the data. Your goal with this implementation is to construct a model that accurately predicts whether an individual makes more than $50,000. This sort of task can arise in a non-profit setting, where organizations survive on donations.  Understanding an individual's income can help a non-profit better understand how large of a donation to request, or whether or not they should reach out to begin with.  While it can be difficult to determine an individual's general income bracket directly from public sources, we can (as we will see) infer this value from other publically available features. \n",
    "\n",
    "The dataset for this project originates from the [UCI Machine Learning Repository](https://archive.ics.uci.edu/ml/datasets/Census+Income). The datset was donated by Ron Kohavi and Barry Becker, after being published in the article _\"Scaling Up the Accuracy of Naive-Bayes Classifiers: A Decision-Tree Hybrid\"_. You can find the article by Ron Kohavi [online](https://www.aaai.org/Papers/KDD/1996/KDD96-033.pdf). The data we investigate here consists of small changes to the original dataset, such as removing the `'fnlwgt'` feature and records with missing or ill-formatted entries."
   ]
  },
  {
   "cell_type": "markdown",
   "metadata": {},
   "source": [
    "----\n",
    "## Exploring the Data\n",
    "Run the code cell below to load necessary Python libraries and load the census data. Note that the last column from this dataset, `'income'`, will be our target label (whether an individual makes more than, or at most, $50,000 annually). All other columns are features about each individual in the census database."
   ]
  },
  {
   "cell_type": "code",
   "execution_count": 2,
   "metadata": {
    "collapsed": false
   },
   "outputs": [
    {
     "data": {
      "text/html": [
       "<div>\n",
       "<table border=\"1\" class=\"dataframe\">\n",
       "  <thead>\n",
       "    <tr style=\"text-align: right;\">\n",
       "      <th></th>\n",
       "      <th>age</th>\n",
       "      <th>workclass</th>\n",
       "      <th>education_level</th>\n",
       "      <th>education-num</th>\n",
       "      <th>marital-status</th>\n",
       "      <th>occupation</th>\n",
       "      <th>relationship</th>\n",
       "      <th>race</th>\n",
       "      <th>sex</th>\n",
       "      <th>capital-gain</th>\n",
       "      <th>capital-loss</th>\n",
       "      <th>hours-per-week</th>\n",
       "      <th>native-country</th>\n",
       "      <th>income</th>\n",
       "    </tr>\n",
       "  </thead>\n",
       "  <tbody>\n",
       "    <tr>\n",
       "      <th>0</th>\n",
       "      <td>39</td>\n",
       "      <td>State-gov</td>\n",
       "      <td>Bachelors</td>\n",
       "      <td>13.0</td>\n",
       "      <td>Never-married</td>\n",
       "      <td>Adm-clerical</td>\n",
       "      <td>Not-in-family</td>\n",
       "      <td>White</td>\n",
       "      <td>Male</td>\n",
       "      <td>2174.0</td>\n",
       "      <td>0.0</td>\n",
       "      <td>40.0</td>\n",
       "      <td>United-States</td>\n",
       "      <td>&lt;=50K</td>\n",
       "    </tr>\n",
       "  </tbody>\n",
       "</table>\n",
       "</div>"
      ],
      "text/plain": [
       "   age   workclass education_level  education-num  marital-status  \\\n",
       "0   39   State-gov       Bachelors           13.0   Never-married   \n",
       "\n",
       "      occupation    relationship    race    sex  capital-gain  capital-loss  \\\n",
       "0   Adm-clerical   Not-in-family   White   Male        2174.0           0.0   \n",
       "\n",
       "   hours-per-week  native-country income  \n",
       "0            40.0   United-States  <=50K  "
      ]
     },
     "metadata": {},
     "output_type": "display_data"
    }
   ],
   "source": [
    "# Import libraries necessary for this project\n",
    "import numpy as np\n",
    "import pandas as pd\n",
    "from time import time\n",
    "from IPython.display import display # Allows the use of display() for DataFrames\n",
    "\n",
    "# Import supplementary visualization code visuals.py\n",
    "import visuals as vs\n",
    "\n",
    "# Pretty display for notebooks\n",
    "%matplotlib inline\n",
    "\n",
    "# Load the Census dataset\n",
    "data = pd.read_csv(\"census.csv\")\n",
    "\n",
    "# Success - Display the first record\n",
    "display(data.head(n=1))"
   ]
  },
  {
   "cell_type": "markdown",
   "metadata": {},
   "source": [
    "### Implementation: Data Exploration\n",
    "A cursory investigation of the dataset will determine how many individuals fit into either group, and will tell us about the percentage of these individuals making more than \\$50,000. In the code cell below, you will need to compute the following:\n",
    "- The total number of records, `'n_records'`\n",
    "- The number of individuals making more than \\$50,000 annually, `'n_greater_50k'`.\n",
    "- The number of individuals making at most \\$50,000 annually, `'n_at_most_50k'`.\n",
    "- The percentage of individuals making more than \\$50,000 annually, `'greater_percent'`.\n",
    "\n",
    "** HINT: ** You may need to look at the table above to understand how the `'income'` entries are formatted. "
   ]
  },
  {
   "cell_type": "code",
   "execution_count": 3,
   "metadata": {
    "collapsed": false
   },
   "outputs": [
    {
     "name": "stdout",
     "output_type": "stream",
     "text": [
      "Total number of records: 45222\n",
      "Individuals making more than $50,000: 11208\n",
      "Individuals making at most $50,000: 34014\n",
      "Percentage of individuals making more than $50,000: 24.78%\n"
     ]
    }
   ],
   "source": [
    "# TODO: Total number of records\n",
    "# shape[0] gives no. rows\n",
    "# shape[1] gives no. columns\n",
    "\n",
    "from __future__ import division\n",
    "\n",
    "n_records = data.shape[0]\n",
    "\n",
    "# TODO: Number of records where individual's income is more than $50,000\n",
    "n_greater_50k = data.loc[data['income'] == '>50K'].shape[0]\n",
    "\n",
    "# TODO: Number of records where individual's income is at most $50,000\n",
    "n_at_most_50k = data.loc[data['income'] == '<=50K'].shape[0]\n",
    "\n",
    "# TODO: Percentage of individuals whose income is more than $50,000\n",
    "greater_percent = n_greater_50k / n_records * 100\n",
    "\n",
    "# Print the results\n",
    "print \"Total number of records: {}\".format(n_records)\n",
    "print \"Individuals making more than $50,000: {}\".format(n_greater_50k)\n",
    "print \"Individuals making at most $50,000: {}\".format(n_at_most_50k)\n",
    "print \"Percentage of individuals making more than $50,000: {:.2f}%\".format(greater_percent)"
   ]
  },
  {
   "cell_type": "markdown",
   "metadata": {},
   "source": [
    "** Featureset Exploration **\n",
    "\n",
    "* **age**: continuous. \n",
    "* **workclass**: Private, Self-emp-not-inc, Self-emp-inc, Federal-gov, Local-gov, State-gov, Without-pay, Never-worked. \n",
    "* **education**: Bachelors, Some-college, 11th, HS-grad, Prof-school, Assoc-acdm, Assoc-voc, 9th, 7th-8th, 12th, Masters, 1st-4th, 10th, Doctorate, 5th-6th, Preschool. \n",
    "* **education-num**: continuous. \n",
    "* **marital-status**: Married-civ-spouse, Divorced, Never-married, Separated, Widowed, Married-spouse-absent, Married-AF-spouse. \n",
    "* **occupation**: Tech-support, Craft-repair, Other-service, Sales, Exec-managerial, Prof-specialty, Handlers-cleaners, Machine-op-inspct, Adm-clerical, Farming-fishing, Transport-moving, Priv-house-serv, Protective-serv, Armed-Forces. \n",
    "* **relationship**: Wife, Own-child, Husband, Not-in-family, Other-relative, Unmarried. \n",
    "* **race**: Black, White, Asian-Pac-Islander, Amer-Indian-Eskimo, Other. \n",
    "* **sex**: Female, Male. \n",
    "* **capital-gain**: continuous. \n",
    "* **capital-loss**: continuous. \n",
    "* **hours-per-week**: continuous. \n",
    "* **native-country**: United-States, Cambodia, England, Puerto-Rico, Canada, Germany, Outlying-US(Guam-USVI-etc), India, Japan, Greece, South, China, Cuba, Iran, Honduras, Philippines, Italy, Poland, Jamaica, Vietnam, Mexico, Portugal, Ireland, France, Dominican-Republic, Laos, Ecuador, Taiwan, Haiti, Columbia, Hungary, Guatemala, Nicaragua, Scotland, Thailand, Yugoslavia, El-Salvador, Trinadad&Tobago, Peru, Hong, Holand-Netherlands."
   ]
  },
  {
   "cell_type": "markdown",
   "metadata": {},
   "source": [
    "----\n",
    "## Preparing the Data\n",
    "Before data can be used as input for machine learning algorithms, it often must be cleaned, formatted, and restructured — this is typically known as **preprocessing**. Fortunately, for this dataset, there are no invalid or missing entries we must deal with, however, there are some qualities about certain features that must be adjusted. This preprocessing can help tremendously with the outcome and predictive power of nearly all learning algorithms."
   ]
  },
  {
   "cell_type": "markdown",
   "metadata": {},
   "source": [
    "### Transforming Skewed Continuous Features\n",
    "A dataset may sometimes contain at least one feature whose values tend to lie near a single number, but will also have a non-trivial number of vastly larger or smaller values than that single number.  Algorithms can be sensitive to such distributions of values and can underperform if the range is not properly normalized. With the census dataset two features fit this description: '`capital-gain'` and `'capital-loss'`. \n",
    "\n",
    "Run the code cell below to plot a histogram of these two features. Note the range of the values present and how they are distributed."
   ]
  },
  {
   "cell_type": "code",
   "execution_count": 4,
   "metadata": {
    "collapsed": false
   },
   "outputs": [
    {
     "data": {
      "image/png": "iVBORw0KGgoAAAANSUhEUgAAAxEAAAF4CAYAAAArA3TdAAAABHNCSVQICAgIfAhkiAAAAAlwSFlz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\nJElq5B1HwLsUJmoX4AAAAABJRU5ErkJggg==\n",
      "text/plain": [
       "<matplotlib.figure.Figure at 0x104c59f10>"
      ]
     },
     "metadata": {},
     "output_type": "display_data"
    }
   ],
   "source": [
    "# Split the data into features and target label\n",
    "income_raw = data['income']\n",
    "features_raw = data.drop('income', axis = 1)\n",
    "\n",
    "# Visualize skewed continuous features of original data\n",
    "vs.distribution(data)"
   ]
  },
  {
   "cell_type": "markdown",
   "metadata": {},
   "source": [
    "For highly-skewed feature distributions such as `'capital-gain'` and `'capital-loss'`, it is common practice to apply a <a href=\"https://en.wikipedia.org/wiki/Data_transformation_(statistics)\">logarithmic transformation</a> on the data so that the very large and very small values do not negatively affect the performance of a learning algorithm. Using a logarithmic transformation significantly reduces the range of values caused by outliers. Care must be taken when applying this transformation however: The logarithm of `0` is undefined, so we must translate the values by a small amount above `0` to apply the the logarithm successfully.\n",
    "\n",
    "Run the code cell below to perform a transformation on the data and visualize the results. Again, note the range of values and how they are distributed. "
   ]
  },
  {
   "cell_type": "code",
   "execution_count": 5,
   "metadata": {
    "collapsed": false
   },
   "outputs": [
    {
     "data": {
      "image/png": "iVBORw0KGgoAAAANSUhEUgAAAxEAAAF4CAYAAAArA3TdAAAABHNCSVQICAgIfAhkiAAAAAlwSFlz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\nQpIkSVIrhghJkiRJrRgiJEmSJLXyA/6QgodBkRSGAAAAAElFTkSuQmCC\n",
      "text/plain": [
       "<matplotlib.figure.Figure at 0x104c7a2d0>"
      ]
     },
     "metadata": {},
     "output_type": "display_data"
    }
   ],
   "source": [
    "# Log-transform the skewed features\n",
    "skewed = ['capital-gain', 'capital-loss']\n",
    "features_log_transformed = pd.DataFrame(data = features_raw)\n",
    "features_log_transformed[skewed] = features_raw[skewed].apply(lambda x: np.log(x + 1))\n",
    "\n",
    "# Visualize the new log distributions\n",
    "vs.distribution(features_log_transformed, transformed = True)"
   ]
  },
  {
   "cell_type": "markdown",
   "metadata": {},
   "source": [
    "### Normalizing Numerical Features\n",
    "In addition to performing transformations on features that are highly skewed, it is often good practice to perform some type of scaling on numerical features. Applying a scaling to the data does not change the shape of each feature's distribution (such as `'capital-gain'` or `'capital-loss'` above); however, normalization ensures that each feature is treated equally when applying supervised learners. Note that once scaling is applied, observing the data in its raw form will no longer have the same original meaning, as exampled below.\n",
    "\n",
    "Run the code cell below to normalize each numerical feature. We will use [`sklearn.preprocessing.MinMaxScaler`](http://scikit-learn.org/stable/modules/generated/sklearn.preprocessing.MinMaxScaler.html) for this."
   ]
  },
  {
   "cell_type": "code",
   "execution_count": 6,
   "metadata": {
    "collapsed": false
   },
   "outputs": [
    {
     "data": {
      "text/html": [
       "<div>\n",
       "<table border=\"1\" class=\"dataframe\">\n",
       "  <thead>\n",
       "    <tr style=\"text-align: right;\">\n",
       "      <th></th>\n",
       "      <th>age</th>\n",
       "      <th>workclass</th>\n",
       "      <th>education_level</th>\n",
       "      <th>education-num</th>\n",
       "      <th>marital-status</th>\n",
       "      <th>occupation</th>\n",
       "      <th>relationship</th>\n",
       "      <th>race</th>\n",
       "      <th>sex</th>\n",
       "      <th>capital-gain</th>\n",
       "      <th>capital-loss</th>\n",
       "      <th>hours-per-week</th>\n",
       "      <th>native-country</th>\n",
       "    </tr>\n",
       "  </thead>\n",
       "  <tbody>\n",
       "    <tr>\n",
       "      <th>0</th>\n",
       "      <td>0.301370</td>\n",
       "      <td>State-gov</td>\n",
       "      <td>Bachelors</td>\n",
       "      <td>0.800000</td>\n",
       "      <td>Never-married</td>\n",
       "      <td>Adm-clerical</td>\n",
       "      <td>Not-in-family</td>\n",
       "      <td>White</td>\n",
       "      <td>Male</td>\n",
       "      <td>0.667492</td>\n",
       "      <td>0.0</td>\n",
       "      <td>0.397959</td>\n",
       "      <td>United-States</td>\n",
       "    </tr>\n",
       "    <tr>\n",
       "      <th>1</th>\n",
       "      <td>0.452055</td>\n",
       "      <td>Self-emp-not-inc</td>\n",
       "      <td>Bachelors</td>\n",
       "      <td>0.800000</td>\n",
       "      <td>Married-civ-spouse</td>\n",
       "      <td>Exec-managerial</td>\n",
       "      <td>Husband</td>\n",
       "      <td>White</td>\n",
       "      <td>Male</td>\n",
       "      <td>0.000000</td>\n",
       "      <td>0.0</td>\n",
       "      <td>0.122449</td>\n",
       "      <td>United-States</td>\n",
       "    </tr>\n",
       "    <tr>\n",
       "      <th>2</th>\n",
       "      <td>0.287671</td>\n",
       "      <td>Private</td>\n",
       "      <td>HS-grad</td>\n",
       "      <td>0.533333</td>\n",
       "      <td>Divorced</td>\n",
       "      <td>Handlers-cleaners</td>\n",
       "      <td>Not-in-family</td>\n",
       "      <td>White</td>\n",
       "      <td>Male</td>\n",
       "      <td>0.000000</td>\n",
       "      <td>0.0</td>\n",
       "      <td>0.397959</td>\n",
       "      <td>United-States</td>\n",
       "    </tr>\n",
       "    <tr>\n",
       "      <th>3</th>\n",
       "      <td>0.493151</td>\n",
       "      <td>Private</td>\n",
       "      <td>11th</td>\n",
       "      <td>0.400000</td>\n",
       "      <td>Married-civ-spouse</td>\n",
       "      <td>Handlers-cleaners</td>\n",
       "      <td>Husband</td>\n",
       "      <td>Black</td>\n",
       "      <td>Male</td>\n",
       "      <td>0.000000</td>\n",
       "      <td>0.0</td>\n",
       "      <td>0.397959</td>\n",
       "      <td>United-States</td>\n",
       "    </tr>\n",
       "    <tr>\n",
       "      <th>4</th>\n",
       "      <td>0.150685</td>\n",
       "      <td>Private</td>\n",
       "      <td>Bachelors</td>\n",
       "      <td>0.800000</td>\n",
       "      <td>Married-civ-spouse</td>\n",
       "      <td>Prof-specialty</td>\n",
       "      <td>Wife</td>\n",
       "      <td>Black</td>\n",
       "      <td>Female</td>\n",
       "      <td>0.000000</td>\n",
       "      <td>0.0</td>\n",
       "      <td>0.397959</td>\n",
       "      <td>Cuba</td>\n",
       "    </tr>\n",
       "  </tbody>\n",
       "</table>\n",
       "</div>"
      ],
      "text/plain": [
       "        age          workclass education_level  education-num  \\\n",
       "0  0.301370          State-gov       Bachelors       0.800000   \n",
       "1  0.452055   Self-emp-not-inc       Bachelors       0.800000   \n",
       "2  0.287671            Private         HS-grad       0.533333   \n",
       "3  0.493151            Private            11th       0.400000   \n",
       "4  0.150685            Private       Bachelors       0.800000   \n",
       "\n",
       "        marital-status          occupation    relationship    race      sex  \\\n",
       "0        Never-married        Adm-clerical   Not-in-family   White     Male   \n",
       "1   Married-civ-spouse     Exec-managerial         Husband   White     Male   \n",
       "2             Divorced   Handlers-cleaners   Not-in-family   White     Male   \n",
       "3   Married-civ-spouse   Handlers-cleaners         Husband   Black     Male   \n",
       "4   Married-civ-spouse      Prof-specialty            Wife   Black   Female   \n",
       "\n",
       "   capital-gain  capital-loss  hours-per-week  native-country  \n",
       "0      0.667492           0.0        0.397959   United-States  \n",
       "1      0.000000           0.0        0.122449   United-States  \n",
       "2      0.000000           0.0        0.397959   United-States  \n",
       "3      0.000000           0.0        0.397959   United-States  \n",
       "4      0.000000           0.0        0.397959            Cuba  "
      ]
     },
     "metadata": {},
     "output_type": "display_data"
    }
   ],
   "source": [
    "# Import sklearn.preprocessing.StandardScaler\n",
    "from sklearn.preprocessing import MinMaxScaler\n",
    "\n",
    "# Initialize a scaler, then apply it to the features\n",
    "scaler = MinMaxScaler() # default=(0, 1)\n",
    "numerical = ['age', 'education-num', 'capital-gain', 'capital-loss', 'hours-per-week']\n",
    "\n",
    "features_log_minmax_transform = pd.DataFrame(data = features_log_transformed)\n",
    "features_log_minmax_transform[numerical] = scaler.fit_transform(features_log_transformed[numerical])\n",
    "\n",
    "# Show an example of a record with scaling applied\n",
    "display(features_log_minmax_transform.head(n = 5))"
   ]
  },
  {
   "cell_type": "markdown",
   "metadata": {},
   "source": [
    "### Implementation: Data Preprocessing\n",
    "\n",
    "From the table in **Exploring the Data** above, we can see there are several features for each record that are non-numeric. Typically, learning algorithms expect input to be numeric, which requires that non-numeric features (called *categorical variables*) be converted. One popular way to convert categorical variables is by using the **one-hot encoding** scheme. One-hot encoding creates a _\"dummy\"_ variable for each possible category of each non-numeric feature. For example, assume `someFeature` has three possible entries: `A`, `B`, or `C`. We then encode this feature into `someFeature_A`, `someFeature_B` and `someFeature_C`.\n",
    "\n",
    "|   | someFeature |                    | someFeature_A | someFeature_B | someFeature_C |\n",
    "| :-: | :-: |                            | :-: | :-: | :-: |\n",
    "| 0 |  B  |  | 0 | 1 | 0 |\n",
    "| 1 |  C  | ----> one-hot encode ----> | 0 | 0 | 1 |\n",
    "| 2 |  A  |  | 1 | 0 | 0 |\n",
    "\n",
    "Additionally, as with the non-numeric features, we need to convert the non-numeric target label, `'income'` to numerical values for the learning algorithm to work. Since there are only two possible categories for this label (\"<=50K\" and \">50K\"), we can avoid using one-hot encoding and simply encode these two categories as `0` and `1`, respectively. In code cell below, you will need to implement the following:\n",
    " - Use [`pandas.get_dummies()`](http://pandas.pydata.org/pandas-docs/stable/generated/pandas.get_dummies.html?highlight=get_dummies#pandas.get_dummies) to perform one-hot encoding on the `'features_log_minmax_transform'` data.\n",
    " - Convert the target label `'income_raw'` to numerical entries.\n",
    "   - Set records with \"<=50K\" to `0` and records with \">50K\" to `1`."
   ]
  },
  {
   "cell_type": "code",
   "execution_count": 7,
   "metadata": {
    "collapsed": false,
    "scrolled": true
   },
   "outputs": [
    {
     "name": "stdout",
     "output_type": "stream",
     "text": [
      "103 total features after one-hot encoding.\n"
     ]
    }
   ],
   "source": [
    "# TODO: One-hot encode the 'features_log_minmax_transform' data using pandas.get_dummies()\n",
    "features_final = pd.get_dummies(features_log_minmax_transform)\n",
    "\n",
    "# TODO: Encode the 'income_raw' data to numerical values\n",
    "# income_raw = data['income']\n",
    "income = pd.get_dummies(income_raw)['>50K']\n",
    "\n",
    "# Print the number of features after one-hot encoding\n",
    "encoded = list(features_final.columns)\n",
    "print \"{} total features after one-hot encoding.\".format(len(encoded))\n",
    "\n",
    "# Uncomment the following line to see the encoded feature names\n",
    "# print encoded"
   ]
  },
  {
   "cell_type": "markdown",
   "metadata": {},
   "source": [
    "### Shuffle and Split Data\n",
    "Now all _categorical variables_ have been converted into numerical features, and all numerical features have been normalized. As always, we will now split the data (both features and their labels) into training and test sets. 80% of the data will be used for training and 20% for testing.\n",
    "\n",
    "Run the code cell below to perform this split."
   ]
  },
  {
   "cell_type": "code",
   "execution_count": 8,
   "metadata": {
    "collapsed": false
   },
   "outputs": [
    {
     "name": "stdout",
     "output_type": "stream",
     "text": [
      "Training set has 36177 samples.\n",
      "Testing set has 9045 samples.\n"
     ]
    },
    {
     "name": "stderr",
     "output_type": "stream",
     "text": [
      "/Users/schumanzhang/anaconda/lib/python2.7/site-packages/sklearn/cross_validation.py:41: DeprecationWarning: This module was deprecated in version 0.18 in favor of the model_selection module into which all the refactored classes and functions are moved. Also note that the interface of the new CV iterators are different from that of this module. This module will be removed in 0.20.\n",
      "  \"This module will be removed in 0.20.\", DeprecationWarning)\n"
     ]
    }
   ],
   "source": [
    "# Import train_test_split\n",
    "from sklearn.cross_validation import train_test_split\n",
    "\n",
    "# Split the 'features' and 'income' data into training and testing sets\n",
    "X_train, X_test, y_train, y_test = train_test_split(features_final, \n",
    "                                                    income, \n",
    "                                                    test_size = 0.2, \n",
    "                                                    random_state = 0)\n",
    "\n",
    "# Show the results of the split\n",
    "print \"Training set has {} samples.\".format(X_train.shape[0])\n",
    "print \"Testing set has {} samples.\".format(X_test.shape[0])"
   ]
  },
  {
   "cell_type": "markdown",
   "metadata": {},
   "source": [
    "----\n",
    "## Evaluating Model Performance\n",
    "In this section, we will investigate four different algorithms, and determine which is best at modeling the data. Three of these algorithms will be supervised learners of your choice, and the fourth algorithm is known as a *naive predictor*."
   ]
  },
  {
   "cell_type": "markdown",
   "metadata": {},
   "source": [
    "### Metrics and the Naive Predictor\n",
    "*CharityML*, equipped with their research, knows individuals that make more than \\$50,000 are most likely to donate to their charity. Because of this, *CharityML* is particularly interested in predicting who makes more than \\$50,000 accurately. It would seem that using **accuracy** as a metric for evaluating a particular model's performace would be appropriate. Additionally, identifying someone that *does not* make more than \\$50,000 as someone who does would be detrimental to *CharityML*, since they are looking to find individuals willing to donate. Therefore, a model's ability to precisely predict those that make more than \\$50,000 is *more important* than the model's ability to **recall** those individuals. We can use **F-beta score** as a metric that considers both precision and recall:\n",
    "\n",
    "$$ F_{\\beta} = (1 + \\beta^2) \\cdot \\frac{precision \\cdot recall}{\\left( \\beta^2 \\cdot precision \\right) + recall} $$\n",
    "\n",
    "In particular, when $\\beta = 0.5$, more emphasis is placed on precision. This is called the **F$_{0.5}$ score** (or F-score for simplicity).\n",
    "\n",
    "Looking at the distribution of classes (those who make at most \\$50,000, and those who make more), it's clear most individuals do not make more than \\$50,000. This can greatly affect **accuracy**, since we could simply say *\"this person does not make more than \\$50,000\"* and generally be right, without ever looking at the data! Making such a statement would be called **naive**, since we have not considered any information to substantiate the claim. It is always important to consider the *naive prediction* for your data, to help establish a benchmark for whether a model is performing well. That been said, using that prediction would be pointless: If we predicted all people made less than \\$50,000, *CharityML* would identify no one as donors. \n",
    "\n",
    "\n",
    "#### Note: Recap of accuracy, precision, recall\n",
    "\n",
    "** Accuracy ** measures how often the classifier makes the correct prediction. It’s the ratio of the number of correct predictions to the total number of predictions (the number of test data points).\n",
    "\n",
    "** Precision ** tells us what proportion of messages we classified as spam, actually were spam.\n",
    "It is a ratio of true positives(words classified as spam, and which are actually spam) to all positives(all words classified as spam, irrespective of whether that was the correct classificatio), in other words it is the ratio of\n",
    "\n",
    "`[True Positives/(True Positives + False Positives)]`\n",
    "\n",
    "** Recall(sensitivity)** tells us what proportion of messages that actually were spam were classified by us as spam.\n",
    "It is a ratio of true positives(words classified as spam, and which are actually spam) to all the words that were actually spam, in other words it is the ratio of\n",
    "\n",
    "`[True Positives/(True Positives + False Negatives)]`\n",
    "\n",
    "For classification problems that are skewed in their classification distributions like in our case, for example if we had a 100 text messages and only 2 were spam and the rest 98 weren't, accuracy by itself is not a very good metric. We could classify 90 messages as not spam(including the 2 that were spam but we classify them as not spam, hence they would be false negatives) and 10 as spam(all 10 false positives) and still get a reasonably good accuracy score. For such cases, precision and recall come in very handy. These two metrics can be combined to get the F1 score, which is weighted average(harmonic mean) of the precision and recall scores. This score can range from 0 to 1, with 1 being the best possible F1 score(we take the harmonic mean as we are dealing with ratios)."
   ]
  },
  {
   "cell_type": "markdown",
   "metadata": {},
   "source": [
    "### Question 1 - Naive Predictor Performace\n",
    "* If we chose a model that always predicted an individual made more than $50,000, what would  that model's accuracy and F-score be on this dataset? You must use the code cell below and assign your results to `'accuracy'` and `'fscore'` to be used later.\n",
    "\n",
    "** Please note ** that the the purpose of generating a naive predictor is simply to show what a base model without any intelligence would look like. In the real world, ideally your base model would be either the results of a previous model or could be based on a research paper upon which you are looking to improve. When there is no benchmark model set, getting a result better than random choice is a place you could start from.\n",
    "\n",
    "** HINT: ** \n",
    "\n",
    "* When we have a model that always predicts '1' (i.e. the individual makes more than 50k) then our model will have no True Negatives(TN) or False Negatives(FN) as we are not making any negative('0' value) predictions. Therefore our Accuracy in this case becomes the same as our Precision(True Positives/(True Positives + False Positives)) as every prediction that we have made with value '1' that should have '0' becomes a False Positive; therefore our denominator in this case is the total number of records we have in total. \n",
    "* Our Recall score(True Positives/(True Positives + False Negatives)) in this setting becomes 1 as we have no False Negatives."
   ]
  },
  {
   "cell_type": "code",
   "execution_count": 9,
   "metadata": {
    "collapsed": false
   },
   "outputs": [
    {
     "name": "stdout",
     "output_type": "stream",
     "text": [
      "11208.0\n",
      "45222\n",
      "Naive Predictor: [Accuracy score: 0.2478, F-score: 0.2917]\n"
     ]
    }
   ],
   "source": [
    "'''\n",
    "TP = np.sum(income) # Counting the ones as this is the naive case. Note that 'income' is the 'income_raw' data \n",
    "encoded to numerical values done in the data preprocessing step.\n",
    "FP = income.count() - TP # Specific to the naive case\n",
    "\n",
    "TN = 0 # No predicted negatives in the naive case\n",
    "FN = 0 # No predicted negatives in the naive case\n",
    "'''\n",
    "\n",
    "TP = np.sum(income)\n",
    "FP = income.count()\n",
    "TN = 0\n",
    "FN = 0\n",
    "\n",
    "print(TP)\n",
    "print(FP)\n",
    "\n",
    "# TODO: Calculate accuracy, precision and recall\n",
    "accuracy = TP / n_records\n",
    "recall = 1\n",
    "precision = TP / n_records\n",
    "\n",
    "# TODO: Calculate F-score using the formula above for beta = 0.5 and correct values for precision and recall.\n",
<<<<<<< HEAD
    "# HINT: The formula above can be written as (1 + beta**2) * (precision * recall) / ((beta**2 * precision) + recall)\n",
    "beta = 0.5\n",
    "fscore = (1 + beta**2) * (precision * recall) / ((beta**2 * precision) + recall)\n",
=======
    "fscore = None\n",
>>>>>>> b69ebce8e2645820ef8e0d38ece7306ed7c289b6
    "\n",
    "# Print the results \n",
    "print \"Naive Predictor: [Accuracy score: {:.4f}, F-score: {:.4f}]\".format(accuracy, fscore)"
   ]
  },
  {
   "cell_type": "markdown",
   "metadata": {},
   "source": [
    "###  Supervised Learning Models\n",
    "**The following are some of the supervised learning models that are currently available in** [`scikit-learn`](http://scikit-learn.org/stable/supervised_learning.html) **that you may choose from:**\n",
    "- Gaussian Naive Bayes (GaussianNB)\n",
    "- Decision Trees\n",
    "- Ensemble Methods (Bagging, AdaBoost, Random Forest, Gradient Boosting)\n",
    "- K-Nearest Neighbors (KNeighbors)\n",
    "- Stochastic Gradient Descent Classifier (SGDC)\n",
    "- Support Vector Machines (SVM)\n",
    "- Logistic Regression"
   ]
  },
  {
   "cell_type": "markdown",
   "metadata": {},
   "source": [
    "### Question 2 - Model Application\n",
    "List three of the supervised learning models above that are appropriate for this problem that you will test on the census data. For each model chosen\n",
    "\n",
    "- Describe one real-world application in industry where the model can be applied. \n",
    "- What are the strengths of the model; when does it perform well?\n",
    "- What are the weaknesses of the model; when does it perform poorly?\n",
    "- What makes this model a good candidate for the problem, given what you know about the data?\n",
    "\n",
    "** HINT: **\n",
    "\n",
    "Structure your answer in the same format as above^, with 4 parts for each of the three models you pick. Please include references with your answer."
   ]
  },
  {
   "cell_type": "markdown",
   "metadata": {},
   "source": [
    "**Answer: **\n",
    "\n",
    "Model 1: Naive Bayes\n",
    "\n",
    "Naive Bayes is used in a lot of text classification tasks in industry. This can be classifying whether email is spam or not or organizing a piece of natural language text into appropriate categories. \n",
    "\n",
    "The strength of Naive Bayes is its simplicity and speed. It also has the ability to make predictions in real time and improves upon new evidence. Its disadvantages is the assumption of the complete independence of the features. \n",
    "\n",
    "The data we have contain a mixture of categorical and continous data which I believe are independent in nature. We can use naive bayes here to model the probability of someone earning over $50k by looking at the features available.\n",
    "\n",
    "Model 2: K-Nearest Neighbors(KNN)\n",
    "\n",
    "KNN is used as a similarity search algorithm in the real world. This includes many recommendation engines that looks at similarity between the new input features comparing against the existing ones to predict the label.\n",
    "\n",
    "The advantage of KNN is that it does not require any training time, it is practical and very easy to understand(being a lazy learner). The downside is the algorithm would take longer to run when a prediction is requested, making it hard to do real time predictions. Picking an incorrect distance function could lower accruacy. \n",
    "\n",
    "A KNN search would have a very practical application to our data. It seems like common sense, all we are asking is given a new set of features, which ones are most similar to it, and extract the corresponding label that way. \n",
    "\n",
    "Model 3: Support Vector Machines(SVM)\n",
    "\n",
    "SVM is used in a lot of image classification and face detection tasks in the real world. It is capable of making very reliable predictions in those use cases.\n",
    "\n",
    "SVM's advantage is its potential for high accruacy, it works well even with smaller datasets that are clean, and also uses a subset of relevant traning points to draw decision boundaries, making it efficient. The disadvantage is a potential high traning time is the data set is very large and it doesn't handle noisy datasets very well.\n",
    "\n",
    "For our data, it would seem SVMs can be used to draw decision boundaries by picking the most relevant data points and maximizing the margins between them, its ability to separate non-linear data makes it suitable and I hope this will produce high accruacy. \n"
   ]
  },
  {
   "cell_type": "markdown",
   "metadata": {},
   "source": [
    "### Implementation - Creating a Training and Predicting Pipeline\n",
    "To properly evaluate the performance of each model you've chosen, it's important that you create a training and predicting pipeline that allows you to quickly and effectively train models using various sizes of training data and perform predictions on the testing data. Your implementation here will be used in the following section.\n",
    "In the code block below, you will need to implement the following:\n",
    " - Import `fbeta_score` and `accuracy_score` from [`sklearn.metrics`](http://scikit-learn.org/stable/modules/classes.html#sklearn-metrics-metrics).\n",
    " - Fit the learner to the sampled training data and record the training time.\n",
    " - Perform predictions on the test data `X_test`, and also on the first 300 training points `X_train[:300]`.\n",
    "   - Record the total prediction time.\n",
    " - Calculate the accuracy score for both the training subset and testing set.\n",
    " - Calculate the F-score for both the training subset and testing set.\n",
    "   - Make sure that you set the `beta` parameter!"
   ]
  },
  {
   "cell_type": "code",
   "execution_count": 12,
   "metadata": {
    "collapsed": false
   },
   "outputs": [],
   "source": [
    "# TODO: Import two metrics from sklearn - fbeta_score and accuracy_score\n",
    "from sklearn.metrics import fbeta_score, accuracy_score\n",
    "\n",
    "def train_predict(learner, sample_size, X_train, y_train, X_test, y_test): \n",
    "\n",
    "    results = {}\n",
    "    \n",
    "    # print('y_train:', y_train)\n",
    "    # print('sample length:', sample_size)\n",
    "    # print('xtrain:', len(X_train))\n",
    "    # print('xtrainsliced:', len(X_train[:int(sample_size)]))\n",
    "        \n",
    "    # TODO: Fit the learner to the training data using slicing with 'sample_size' using .fit(training_features[:], training_labels[:])\n",
    "    start = time() # Get start time\n",
    "    learner = learner.fit(X_train[:int(sample_size)], y_train[:int(sample_size)])\n",
    "    end = time() # Get end time\n",
    "    \n",
    "    # TODO: Calculate the training time\n",
    "    results['train_time'] = end - start\n",
    "        \n",
    "    # TODO: Get the predictions on the test set(X_test),\n",
    "    #       then get predictions on the first 300 training samples(X_train) using .predict()\n",
    "    start = time() # Get start time\n",
    "    predictions_test = learner.predict(X_test)\n",
    "    predictions_train = learner.predict(X_train[:300])\n",
    "    end = time() # Get end time\n",
    "    \n",
    "    # TODO: Calculate the total prediction time\n",
    "    results['pred_time'] = end - start\n",
    "            \n",
    "    # TODO: Compute accuracy on the first 300 training samples which is y_train[:300]\n",
    "    results['acc_train'] = learner.score(X_train[:300], y_train[:300])\n",
    "        \n",
    "    # TODO: Compute accuracy on test set using accuracy_score()\n",
    "    results['acc_test'] = accuracy_score(y_test, predictions_test)\n",
    "    \n",
    "    # TODO: Compute F-score on the the first 300 training samples using fbeta_score()\n",
    "    results['f_train'] = fbeta_score(y_train[:300], predictions_train, average='macro', beta=0.5)\n",
    "        \n",
    "    # TODO: Compute F-score on the test set which is y_test\n",
    "    results['f_test'] = fbeta_score(y_test, predictions_test, average='macro', beta=0.5)\n",
    "       \n",
    "    # Success\n",
    "    print \"{} trained on {} samples.\".format(learner.__class__.__name__, sample_size)\n",
    "        \n",
    "    # Return the results\n",
    "    return results"
   ]
  },
  {
   "cell_type": "markdown",
   "metadata": {},
   "source": [
    "### Implementation: Initial Model Evaluation\n",
    "In the code cell, you will need to implement the following:\n",
    "- Import the three supervised learning models you've discussed in the previous section.\n",
    "- Initialize the three models and store them in `'clf_A'`, `'clf_B'`, and `'clf_C'`.\n",
    "  - Use a `'random_state'` for each model you use, if provided.\n",
    "  - **Note:** Use the default settings for each model — you will tune one specific model in a later section.\n",
    "- Calculate the number of records equal to 1%, 10%, and 100% of the training data.\n",
    "  - Store those values in `'samples_1'`, `'samples_10'`, and `'samples_100'` respectively.\n",
    "\n",
    "**Note:** Depending on which algorithms you chose, the following implementation may take some time to run!"
   ]
  },
  {
   "cell_type": "code",
   "execution_count": 13,
   "metadata": {
    "collapsed": false
   },
   "outputs": [
    {
     "name": "stdout",
     "output_type": "stream",
     "text": [
      "GaussianNB trained on 362.0 samples.\n",
      "GaussianNB trained on 3618.0 samples.\n",
      "GaussianNB trained on 36177 samples.\n",
      "SVC trained on 362.0 samples.\n",
      "SVC trained on 3618.0 samples.\n",
      "SVC trained on 36177 samples.\n",
      "KNeighborsClassifier trained on 362.0 samples.\n",
      "KNeighborsClassifier trained on 3618.0 samples.\n",
      "KNeighborsClassifier trained on 36177 samples.\n"
     ]
    },
    {
     "data": {
      "image/png": "iVBORw0KGgoAAAANSUhEUgAAAxEAAAIwCAYAAAD54OZBAAAABHNCSVQICAgIfAhkiAAAAAlwSFlz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\nLCIkSZIk9cQiQpIkSVJP/j9nrM3R6Hm+tgAAAABJRU5ErkJggg==\n",
      "text/plain": [
       "<matplotlib.figure.Figure at 0x117858350>"
      ]
     },
     "metadata": {},
     "output_type": "display_data"
    }
   ],
   "source": [
    "# TODO: Import the three supervised learning models from sklearn\n",
    "from sklearn.naive_bayes import GaussianNB\n",
    "from sklearn import svm\n",
    "from sklearn.neighbors import KNeighborsClassifier\n",
    "\n",
    "# TODO: Initialize the three models\n",
    "clf_A = GaussianNB()\n",
    "clf_B = svm.SVC()\n",
    "clf_C = KNeighborsClassifier(n_neighbors=3)\n",
    "\n",
    "# TODO: Calculate the number of samples for 1%, 10%, and 100% of the training data\n",
    "# HINT: samples_100 is the entire training set i.e. len(y_train)\n",
    "# HINT: samples_10 is 10% of samples_100\n",
    "# HINT: samples_1 is 1% of samples_100\n",
    "samples_100 = len(y_train)\n",
    "samples_10 = round(len(y_train) * 0.1)\n",
    "samples_1 = round(len(y_train) * 0.01)\n",
    "\n",
    "# Collect results on the learners\n",
    "results = {}\n",
    "for clf in [clf_A, clf_B, clf_C]:\n",
    "    clf_name = clf.__class__.__name__\n",
    "    results[clf_name] = {}\n",
    "    for i, samples in enumerate([samples_1, samples_10, samples_100]):\n",
    "        results[clf_name][i] = \\\n",
    "        train_predict(clf, samples, X_train, y_train, X_test, y_test)\n",
    "\n",
    "# Run metrics visualization for the three supervised learning models chosen\n",
    "vs.evaluate(results, accuracy, fscore)"
   ]
  },
  {
   "cell_type": "markdown",
   "metadata": {},
   "source": [
    "----\n",
    "## Improving Results\n",
    "In this final section, you will choose from the three supervised learning models the *best* model to use on the student data. You will then perform a grid search optimization for the model over the entire training set (`X_train` and `y_train`) by tuning at least one parameter to improve upon the untuned model's F-score. "
   ]
  },
  {
   "cell_type": "markdown",
   "metadata": {},
   "source": [
    "### Question 3 - Choosing the Best Model\n",
    "\n",
    "* Based on the evaluation you performed earlier, in one to two paragraphs, explain to *CharityML* which of the three models you believe to be most appropriate for the task of identifying individuals that make more than \\$50,000. \n",
    "\n",
    "** HINT: ** \n",
    "Look at the graph at the bottom left from the cell above(the visualization created by `vs.evaluate(results, accuracy, fscore)`) and check the F score for the testing set when 100% of the training set is used. Which model has the highest score? Your answer should include discussion of the:\n",
    "* metrics - F score on the testing when 100% of the training data is used, \n",
    "* prediction/training time\n",
    "* the algorithm's suitability for the data."
   ]
  },
  {
   "cell_type": "markdown",
   "metadata": {},
   "source": [
    "**Answer: **\n",
    "\n",
    "The support vector machine model has the highest accuracy and F score when 100% of the training set is used. We can also see that the KNN classifier is also quite accurate, but when we look at the prediction times, the KNN classifier will take the most time since it doesn't do 'learning' during training. The downside of SVM, especially when 100% of the training data is used, is the both long training time and prediction time. My decision will then ultimately based on a trade-off between accuracy and traning/prediction times. \n",
    "\n",
    "SVM is usually not preferred for heavily skewed data sets and because of its long training time, it is not good for constantly training on new data. In this case, I do not believe we have a really skewed label and there's no indication we need to constantly train new samples. I also note that at 10% of the training set, we can already get very similar accuracy metrics with SVM, with very low training and prediction times. In this case I will choose SVM as the most appropriate model. \n",
    "\n",
    "Another reason I have choosing SVM over KNN is because I find it unclear what type of distance function to use in this case and also which features are applicable to the distance function, therefore I'm willing to sacrifice more training/prediction time in the hope that SVM provides more room for optimization and therefore higher accuracy. "
   ]
  },
  {
   "cell_type": "markdown",
   "metadata": {},
   "source": [
    "### Question 4 - Describing the Model in Layman's Terms\n",
    "\n",
    "* In one to two paragraphs, explain to *CharityML*, in layman's terms, how the final model chosen is supposed to work. Be sure that you are describing the major qualities of the model, such as how the model is trained and how the model makes a prediction. Avoid using advanced mathematical jargon, such as describing equations.\n",
    "\n",
    "** HINT: **\n",
    "\n",
    "When explaining your model, if using external resources please include all citations."
   ]
  },
  {
   "cell_type": "markdown",
   "metadata": {},
   "source": [
    "**Answer: ** \n",
    "\n",
    "How does SVM work?\n",
    "\n",
    "Support Vector Machine (SVM) is most often used in classification problems like the one we have here. The algorithm works by looking at the data points, and then tries to draw a plane or a line which best separates the two classes (> 50k, <=50K) that we are trying to predict. \n",
    "\n",
    "How is the model trained?\n",
    "\n",
    "The model is trained by looking at the data points, and picking out the set of points at the boundaries which could separate the data into 2 classes. The algorithm may then find multiple lines/hyperplanes which separates the data into 2 classes, but then it picks the best separator by picking the one that is as far as possible from data points from each class (maximizing the margin). \n",
    "\n",
    "\n",
    "How the model makes a prediction?\n",
    "\n",
    "After the separating line/hyperplane is discovered, the model makes a prediction by plotting the incoming data point, and looking at which side of the separator the new data point sits on. "
   ]
  },
  {
   "cell_type": "markdown",
   "metadata": {},
   "source": [
    "### Implementation: Model Tuning\n",
    "Fine tune the chosen model. Use grid search (`GridSearchCV`) with at least one important parameter tuned with at least 3 different values. You will need to use the entire training set for this. In the code cell below, you will need to implement the following:\n",
    "- Import [`sklearn.grid_search.GridSearchCV`](http://scikit-learn.org/0.17/modules/generated/sklearn.grid_search.GridSearchCV.html) and [`sklearn.metrics.make_scorer`](http://scikit-learn.org/stable/modules/generated/sklearn.metrics.make_scorer.html).\n",
    "- Initialize the classifier you've chosen and store it in `clf`.\n",
    " - Set a `random_state` if one is available to the same state you set before.\n",
    "- Create a dictionary of parameters you wish to tune for the chosen model.\n",
    " - Example: `parameters = {'parameter' : [list of values]}`.\n",
    " - **Note:** Avoid tuning the `max_features` parameter of your learner if that parameter is available!\n",
    "- Use `make_scorer` to create an `fbeta_score` scoring object (with $\\beta = 0.5$).\n",
    "- Perform grid search on the classifier `clf` using the `'scorer'`, and store it in `grid_obj`.\n",
    "- Fit the grid search object to the training data (`X_train`, `y_train`), and store it in `grid_fit`.\n",
    "\n",
    "**Note:** Depending on the algorithm chosen and the parameter list, the following implementation may take some time to run!"
   ]
  },
  {
   "cell_type": "code",
   "execution_count": 15,
   "metadata": {
    "collapsed": false
   },
   "outputs": [
    {
     "name": "stdout",
     "output_type": "stream",
     "text": [
      "checkpoint1\n",
      "checkpoint2\n",
      "checkpoint3\n",
      "checkpoint4\n",
      "checkpoint5\n",
      "Unoptimized model\n",
      "------\n",
      "Accuracy score on testing data: 0.8371\n",
      "F-score on testing data: 0.6745\n",
      "\n",
      "Optimized Model\n",
      "------\n",
      "Final accuracy score on the testing data: 0.8394\n",
      "Final F-score on the testing data: 0.6797\n"
     ]
    }
   ],
   "source": [
    "# TODO: Import 'GridSearchCV', 'make_scorer', and any other necessary libraries\n",
    "from sklearn.metrics import fbeta_score, make_scorer\n",
    "from sklearn.grid_search import GridSearchCV\n",
    "\n",
    "# TODO: Initialize the classifier\n",
    "clf = svm.SVC()\n",
    "print 'checkpoint1'\n",
    "\n",
    "# TODO: Create the parameters list you wish to tune, using a dictionary if needed.\n",
    "# HINT: parameters = {'parameter_1': [value1, value2], 'parameter_2': [value1, value2]}\n",
    "Cs = [0.1, 1, 10]\n",
    "gammas = [0.001, 0.01, 0.1]\n",
    "kernel = ['rbf']\n",
    "parameters = [{'kernel': ['rbf'], 'C': Cs, 'gamma': gammas}, {'kernel': ['linear'], 'C': Cs, 'gamma': gammas}]\n",
    "\n",
    "# TODO: Make an fbeta_score scoring object using make_scorer()\n",
    "scorer = make_scorer(fbeta_score, beta=0.5)\n",
    "\n",
    "print 'checkpoint2'\n",
    "\n",
    "# TODO: Perform grid search on the classifier using 'scorer' as the scoring method using GridSearchCV()\n",
    "grid_obj = GridSearchCV(clf, parameters)\n",
    "\n",
    "print 'checkpoint3'\n",
    "# TODO: Fit the grid search object to the training data and find the optimal parameters using fit()\n",
    "grid_fit = grid_obj.fit(X_train, y_train)\n",
    "\n",
    "print 'checkpoint4'\n",
    "# Get the estimator\n",
    "best_clf = grid_fit.best_estimator_\n",
    "\n",
    "print 'checkpoint5'\n",
    "# Make predictions using the unoptimized and model\n",
    "predictions = (clf.fit(X_train, y_train)).predict(X_test)\n",
    "best_predictions = best_clf.predict(X_test)\n",
    "\n",
    "# Report the before-and-afterscores\n",
    "print \"Unoptimized model\\n------\"\n",
    "print \"Accuracy score on testing data: {:.4f}\".format(accuracy_score(y_test, predictions))\n",
    "print \"F-score on testing data: {:.4f}\".format(fbeta_score(y_test, predictions, beta = 0.5))\n",
    "print \"\\nOptimized Model\\n------\"\n",
    "print \"Final accuracy score on the testing data: {:.4f}\".format(accuracy_score(y_test, best_predictions))\n",
    "print \"Final F-score on the testing data: {:.4f}\".format(fbeta_score(y_test, best_predictions, beta = 0.5))"
   ]
  },
  {
   "cell_type": "markdown",
   "metadata": {},
   "source": [
    "### Question 5 - Final Model Evaluation\n",
    "\n",
    "* What is your optimized model's accuracy and F-score on the testing data? \n",
    "* Are these scores better or worse than the unoptimized model? \n",
    "* How do the results from your optimized model compare to the naive predictor benchmarks you found earlier in **Question 1**?_  \n",
    "\n",
    "**Note:** Fill in the table below with your results, and then provide discussion in the **Answer** box."
   ]
  },
  {
   "cell_type": "markdown",
   "metadata": {},
   "source": [
    "#### Results:\n",
    "\n",
    "|     Metric     | Unoptimized Model | Optimized Model |\n",
    "| :------------: | :---------------: | :-------------: | \n",
<<<<<<< HEAD
    "| Accuracy Score |  0.8371           |  0.8394         |\n",
    "| F-score        |  0.6745           |  0.6797         |\n"
=======
    "| Accuracy Score |                   |                 |\n",
    "| F-score        |                   |   EXAMPLE       |\n"
>>>>>>> b69ebce8e2645820ef8e0d38ece7306ed7c289b6
   ]
  },
  {
   "cell_type": "markdown",
   "metadata": {},
   "source": [
    "**Answer: **\n",
    "\n",
    "The scores from the optimized model via grid search is marginally better than the unoptimized model. It is however a bery big improvement on the naive predictor benchmark, which had an F-score of approximately 0.3 and accuracy of 0.25. \n",
    "\n",
    "One thing I learned is the training time with gridsearch for the support vector classifier. It took me a very very long time to produce these results (close to 2 hours), but without an obvious improvement in the optimized model. "
   ]
  },
  {
   "cell_type": "markdown",
   "metadata": {},
   "source": [
    "----\n",
    "## Feature Importance\n",
    "\n",
    "An important task when performing supervised learning on a dataset like the census data we study here is determining which features provide the most predictive power. By focusing on the relationship between only a few crucial features and the target label we simplify our understanding of the phenomenon, which is most always a useful thing to do. In the case of this project, that means we wish to identify a small number of features that most strongly predict whether an individual makes at most or more than \\$50,000.\n",
    "\n",
    "Choose a scikit-learn classifier (e.g., adaboost, random forests) that has a `feature_importance_` attribute, which is a function that ranks the importance of features according to the chosen classifier.  In the next python cell fit this classifier to training set and use this attribute to determine the top 5 most important features for the census dataset."
   ]
  },
  {
   "cell_type": "markdown",
   "metadata": {},
   "source": [
    "### Question 6 - Feature Relevance Observation\n",
    "When **Exploring the Data**, it was shown there are thirteen available features for each individual on record in the census data. Of these thirteen records, which five features do you believe to be most important for prediction, and in what order would you rank them and why?"
   ]
  },
  {
   "cell_type": "markdown",
   "metadata": {},
   "source": [
    "**Answer:**\n",
    "\n",
    "Of the thirteen features, I would pick education, occupation, hours-per-week, age and race. My ranking for them would be: \n",
    "\n",
    "1. Occupation - what type of job you do would be very important in determining your earning potential, some types of jobs would pay higher regardless of hours spent working\n",
    "\n",
    "2. Education - education level will very often determine the type of occupation you can get and there very important determinant of income\n",
    "\n",
    "3. hours-per-week - if you work at the same job, the longer you work the more you earn.\n",
    "\n",
    "4. age - there's a higher chance that older and more experienced workers earn more than younger, inexperienced ones will therefore earn less\n",
    "\n",
    "5. marital status - married people and likely to be more stable, enabling them to focus on their careers and get a higher paying job "
   ]
  },
  {
   "cell_type": "markdown",
   "metadata": {},
   "source": [
    "### Implementation - Extracting Feature Importance\n",
    "Choose a `scikit-learn` supervised learning algorithm that has a `feature_importance_` attribute availble for it. This attribute is a function that ranks the importance of each feature when making predictions based on the chosen algorithm.\n",
    "\n",
    "In the code cell below, you will need to implement the following:\n",
    " - Import a supervised learning model from sklearn if it is different from the three used earlier.\n",
    " - Train the supervised model on the entire training set.\n",
    " - Extract the feature importances using `'.feature_importances_'`."
   ]
  },
  {
   "cell_type": "code",
   "execution_count": 16,
   "metadata": {
    "collapsed": false
   },
   "outputs": [
    {
     "data": {
      "image/png": "iVBORw0KGgoAAAANSUhEUgAAAoIAAAFiCAYAAABiXLkKAAAABHNCSVQICAgIfAhkiAAAAAlwSFlz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\nzMzMrKX+D1KmbKMNpR82AAAAAElFTkSuQmCC\n",
      "text/plain": [
       "<matplotlib.figure.Figure at 0x116d37290>"
      ]
     },
     "metadata": {},
     "output_type": "display_data"
    }
   ],
   "source": [
    "# TODO: Import a supervised learning model that has 'feature_importances_'\n",
    "from sklearn.ensemble import RandomForestClassifier\n",
    "\n",
    "# TODO: Train the supervised model on the training set using .fit(X_train, y_train)\n",
    "clf = RandomForestClassifier()\n",
    "model = clf.fit(X_train, y_train)\n",
    "\n",
    "# TODO: Extract the feature importances using .feature_importances_ \n",
    "importances = model.feature_importances_ \n",
    "\n",
    "# Plot\n",
    "vs.feature_plot(importances, X_train, y_train)"
   ]
  },
  {
   "cell_type": "markdown",
   "metadata": {},
   "source": [
    "### Question 7 - Extracting Feature Importance\n",
    "\n",
    "Observe the visualization created above which displays the five most relevant features for predicting if an individual makes at most or above \\$50,000.  \n",
    "* How do these five features compare to the five features you discussed in **Question 6**?\n",
    "* If you were close to the same answer, how does this visualization confirm your thoughts? \n",
    "* If you were not close, why do you think these features are more relevant?"
   ]
  },
  {
   "cell_type": "markdown",
   "metadata": {},
   "source": [
    "**Answer:**\n",
    "\n",
    "I think I was pretty accurate with those 5 features. I definitely didn't think capital gain was such an important feature and I didn't expect occupation to not be in the top 5 features. Also, number of years education turns out to be more important than education level. \n",
    "\n",
    "Howvever, I think the visualization mostly confirmed my thoughts. I'm guessing capital gain is important because that is actually considered to be part of income. Initially I thought that was independent of income. "
   ]
  },
  {
   "cell_type": "markdown",
   "metadata": {},
   "source": [
    "### Feature Selection\n",
    "How does a model perform if we only use a subset of all the available features in the data? With less features required to train, the expectation is that training and prediction time is much lower — at the cost of performance metrics. From the visualization above, we see that the top five most important features contribute more than half of the importance of **all** features present in the data. This hints that we can attempt to *reduce the feature space* and simplify the information required for the model to learn. The code cell below will use the same optimized model you found earlier, and train it on the same training set *with only the top five important features*. "
   ]
  },
  {
   "cell_type": "code",
   "execution_count": 17,
   "metadata": {
    "collapsed": false
   },
   "outputs": [
    {
     "name": "stdout",
     "output_type": "stream",
     "text": [
      "Final Model trained on full data\n",
      "------\n",
      "Accuracy on testing data: 0.8394\n",
      "F-score on testing data: 0.6797\n",
      "\n",
      "Final Model trained on reduced data\n",
      "------\n",
      "Accuracy on testing data: 0.8285\n",
      "F-score on testing data: 0.6530\n"
     ]
    }
   ],
   "source": [
    "# Import functionality for cloning a model\n",
    "from sklearn.base import clone\n",
    "\n",
    "# Reduce the feature space\n",
    "X_train_reduced = X_train[X_train.columns.values[(np.argsort(importances)[::-1])[:5]]]\n",
    "X_test_reduced = X_test[X_test.columns.values[(np.argsort(importances)[::-1])[:5]]]\n",
    "\n",
    "# Train on the \"best\" model found from grid search earlier\n",
    "clf = (clone(best_clf)).fit(X_train_reduced, y_train)\n",
    "\n",
    "# Make new predictions\n",
    "reduced_predictions = clf.predict(X_test_reduced)\n",
    "\n",
    "# Report scores from the final model using both versions of data\n",
    "print \"Final Model trained on full data\\n------\"\n",
    "print \"Accuracy on testing data: {:.4f}\".format(accuracy_score(y_test, best_predictions))\n",
    "print \"F-score on testing data: {:.4f}\".format(fbeta_score(y_test, best_predictions, beta = 0.5))\n",
    "print \"\\nFinal Model trained on reduced data\\n------\"\n",
    "print \"Accuracy on testing data: {:.4f}\".format(accuracy_score(y_test, reduced_predictions))\n",
    "print \"F-score on testing data: {:.4f}\".format(fbeta_score(y_test, reduced_predictions, beta = 0.5))"
   ]
  },
  {
   "cell_type": "markdown",
   "metadata": {},
   "source": [
    "### Question 8 - Effects of Feature Selection\n",
    "\n",
    "* How does the final model's F-score and accuracy score on the reduced data using only five features compare to those same scores when all features are used?\n",
    "* If training time was a factor, would you consider using the reduced data as your training set?"
   ]
  },
  {
   "cell_type": "markdown",
   "metadata": {},
   "source": [
    "**Answer:**\n",
    "\n",
    "With the reduced data, both the accuracy score and F-score reduced slightly. Accuracy went from 0.8394 down to 0.8285 and F-score went down from 0.6797 to 0.6530. \n",
    "\n",
    "When it comes to training SVM, which has both a long training and prediction time, I believe a reduced feature set is an attractive tradeoff. This will allow me to almost achieve the same result in a fraction of the time. But if I were to use a different technique that has a much shorter training/prediction time, then I would prefer the one with higher accuracy. "
   ]
  },
  {
   "cell_type": "markdown",
   "metadata": {},
   "source": [
    "> **Note**: Once you have completed all of the code implementations and successfully answered each question above, you may finalize your work by exporting the iPython Notebook as an HTML document. You can do this by using the menu above and navigating to  \n",
    "**File -> Download as -> HTML (.html)**. Include the finished document along with this notebook as your submission."
   ]
  }
 ],
 "metadata": {
  "kernelspec": {
   "display_name": "Python 2",
   "language": "python",
   "name": "python2"
  },
  "language_info": {
   "codemirror_mode": {
    "name": "ipython",
    "version": 2
   },
   "file_extension": ".py",
   "mimetype": "text/x-python",
   "name": "python",
   "nbconvert_exporter": "python",
   "pygments_lexer": "ipython2",
   "version": "2.7.11"
  }
 },
 "nbformat": 4,
 "nbformat_minor": 1
}
